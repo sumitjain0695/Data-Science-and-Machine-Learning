{
 "cells": [
  {
   "cell_type": "code",
   "execution_count": 2,
   "metadata": {
    "_uuid": "c5fb66e69cac3f9ca491e2c5a04f5d87b91bf09d",
    "scrolled": true
   },
   "outputs": [],
   "source": [
    "import pandas as pd\n",
    "import numpy as np\n",
    "import datetime as dt\n",
    "import matplotlib as mpl\n",
    "import matplotlib.pyplot as plt\n",
    "import seaborn as sns\n",
    "import folium\n",
    "from folium import plugins\n",
    "#import squarify as sq\n",
    "sns.set(color_codes=True)\n",
    "%matplotlib inline\n",
    "#from datetime import datetime"
   ]
  },
  {
   "cell_type": "code",
   "execution_count": 4,
   "metadata": {
    "_uuid": "6f888524c9b3cd6d97d28ffc6615ca5d9981e722",
    "collapsed": true
   },
   "outputs": [],
   "source": [
    "source = pd.read_csv(\"../input/train.csv\", sep=\",\", low_memory=False)\n",
    "#source = pd.read_csv('train.csv', sep=',', low_memory=False)\n",
    "#source.head()\n",
    "no_poly_source = source.loc[:, source.columns != 'POLYLINE']\n",
    "#no_poly_source.head()\n",
    "miss_false_no_poly_source = no_poly_source[no_poly_source.MISSING_DATA == False]\n",
    "miss_false_no_poly_source.head()"
   ]
  },
  {
   "cell_type": "code",
   "execution_count": 3,
   "metadata": {
    "_uuid": "ab1875e70e01c72a4e3b491b07fe1c59bd0cd211",
    "collapsed": true
   },
   "outputs": [],
   "source": [
    "new_source = miss_false_no_poly_source.copy()\n",
    "new_source['WEEK_DAY'] = new_source.TIMESTAMP.apply(lambda x: dt.datetime.fromtimestamp(x).weekday())\n",
    "new_source['YEAR'] = new_source.TIMESTAMP.apply(lambda x: dt.datetime.fromtimestamp(x).year)\n",
    "new_source['MONTH'] = new_source.TIMESTAMP.apply(lambda x: dt.datetime.fromtimestamp(x).month)\n",
    "new_source['MONTH_DAY'] = new_source.TIMESTAMP.apply(lambda x: dt.datetime.fromtimestamp(x).day)\n",
    "new_source['HOUR'] = new_source.TIMESTAMP.apply(lambda x: dt.datetime.fromtimestamp(x).hour)\n",
    "new_source['DATE'] = new_source.TIMESTAMP.apply(lambda x: dt.datetime.fromtimestamp(x).date().isoformat())\n",
    "new_source['DATE_DATE'] = new_source.TIMESTAMP.apply(lambda x: dt.datetime.fromtimestamp(x).date())\n",
    "new_source.tail()"
   ]
  },
  {
   "cell_type": "markdown",
   "metadata": {
    "_uuid": "e9e69022ce734255b9752c859df9ef17d026267b"
   },
   "source": [
    "# Year Use"
   ]
  },
  {
   "cell_type": "code",
   "execution_count": 4,
   "metadata": {
    "_uuid": "9c4883cc8bae29de6b32dd08649164ba2d8a2512",
    "collapsed": true
   },
   "outputs": [],
   "source": [
    "plt.figure(figsize=(10,10))\n",
    "patches, texts, autotexts = plt.pie(new_source.YEAR.value_counts().values\n",
    "        , labels=new_source.YEAR.value_counts().keys()\n",
    "        , autopct='%1.2f%%')\n",
    "\n",
    "for t in texts:\n",
    "    t.set_fontsize(20)\n",
    "for t in autotexts:\n",
    "    t.set_fontsize(20)\n",
    "autotexts[0].set_color('y')\n",
    "plt.show()"
   ]
  },
  {
   "cell_type": "markdown",
   "metadata": {
    "_uuid": "cc322dd3ff9585384262575ee8d2805e1e626e4b"
   },
   "source": [
    "## Evolution of Trips"
   ]
  },
  {
   "cell_type": "code",
   "execution_count": 5,
   "metadata": {
    "_uuid": "6d5b6e1a34d06dc8502ae8079d5ac392db8b6add",
    "collapsed": true
   },
   "outputs": [],
   "source": [
    "time_plot = pd.DataFrame({'value': new_source.DATE.value_counts().values, 'date': new_source.DATE.value_counts().keys()})\n",
    "#time_plot.set_index('date', inplace=True)\n",
    "time_plot = time_plot.set_index('date')['value']\n",
    "time_plot.sort_index(inplace=True)\n",
    "time_plot.keys().astype(np.datetime64)\n",
    "\n",
    "# Plotting\n",
    "plt.figure(figsize=(20,10))\n",
    "plt.rc('font', size=25)          # controls default text sizes\n",
    "plt.rc('axes', titlesize=25)\n",
    "plt.rc('axes', labelsize=17)\n",
    "plt.rc('xtick', labelsize=15)    # fontsize of the tick labels\n",
    "plt.rc('ytick', labelsize=15)    # fontsize of the tick labels\n",
    "\n",
    "plt.ylabel('Number of Trips')\n",
    "plt.xlabel('Date of Trips')\n",
    "plt.title('Evolution of number of trips (2013/07 - 2014/07)')\n",
    "\n",
    "plt.plot_date(time_plot.keys(), time_plot.values, 'bo-', alpha=0.6)\n",
    "\n",
    "plt.xticks(rotation = 45\n",
    "           , size = 14)\n",
    "# No pinta las fechas\n",
    "#time_plot.plot(alpha=0.5, style='bo-')\n",
    "\n",
    "plt.show();"
   ]
  },
  {
   "cell_type": "markdown",
   "metadata": {
    "_uuid": "da3d9d085664d5ef922db1bf18c0541dce841268"
   },
   "source": [
    "# Month Use"
   ]
  },
  {
   "cell_type": "code",
   "execution_count": 6,
   "metadata": {
    "_uuid": "99ccf3e7b6ae209c91e32e2a29a8b22f63324dbb",
    "collapsed": true
   },
   "outputs": [],
   "source": [
    "keys_month = np.arange(1,13)\n",
    "values_month = ['January','February', 'March', 'April', 'May', 'June', 'July', 'August', 'September', 'October', 'November', 'December']\n",
    "month_names = dict(zip(keys_month,values_month))\n",
    "\n",
    "plt.figure(figsize=(15,10))\n",
    "my_colors = 'g'\n",
    "ax = plt.bar(new_source.MONTH.value_counts().keys()\n",
    "        , new_source.MONTH.value_counts().values\n",
    "        , color = my_colors)\n",
    "plt.xticks(new_source.MONTH.value_counts().keys()\n",
    "           , new_source.MONTH.map(month_names).value_counts().keys()\n",
    "           , rotation = 45\n",
    "           , size = 14)\n",
    "plt.xlabel('Months', size = 14)\n",
    "plt.ylabel('Number of trips', size = 14)\n",
    "plt.show()"
   ]
  },
  {
   "cell_type": "markdown",
   "metadata": {
    "_uuid": "406761db66abd5cfaf247376b72917d3e50f089b"
   },
   "source": [
    "## Trips per Month Day"
   ]
  },
  {
   "cell_type": "code",
   "execution_count": 7,
   "metadata": {
    "_uuid": "1e79f8b2de70d673c6a09f0cb2136be167d46c3c",
    "collapsed": true
   },
   "outputs": [],
   "source": [
    "plt.figure(figsize=(15,10))\n",
    "my_colors = 'b'\n",
    "ax = plt.bar(new_source.MONTH_DAY.value_counts().keys()\n",
    "        , new_source.MONTH_DAY.value_counts().values\n",
    "        , color = my_colors)\n",
    "plt.xticks(new_source.MONTH_DAY.value_counts().keys()\n",
    "           , new_source.MONTH_DAY.value_counts().keys()\n",
    "           , rotation = 45\n",
    "           , size = 14)\n",
    "plt.xlabel('Day of the month', size = 14)\n",
    "plt.ylabel('Number of trips', size = 14)\n",
    "plt.show()\n",
    "\n",
    "#new_source.MONTH_DAY.value_counts().plot(kind='bar', figsize=(7,7), cmap='Paired', use_index=False)"
   ]
  },
  {
   "cell_type": "markdown",
   "metadata": {
    "_uuid": "2b5c81b940bf3baa0577e4ffb0b9514124156ea7"
   },
   "source": [
    "## Trips per Week Day"
   ]
  },
  {
   "cell_type": "code",
   "execution_count": 8,
   "metadata": {
    "_uuid": "e221ca75f324cb9e86bfb8242cec66ba35f077a2",
    "collapsed": true
   },
   "outputs": [],
   "source": [
    "keys_week = np.arange(0,7)\n",
    "values_week = ['Monday','Tuesday', 'Wednesday', 'Thursday', 'Friday', 'Saturday', 'Sunday']\n",
    "week_days_names = dict(zip(keys_week,values_week))\n",
    "\n",
    "plt.figure(figsize=(15,10))\n",
    "my_colors = 'rgbkymc'\n",
    "ax = plt.bar(new_source.WEEK_DAY.value_counts().keys()\n",
    "        , new_source.WEEK_DAY.map(week_days_names).value_counts().values\n",
    "        , color = my_colors)\n",
    "\n",
    "plt.xticks(new_source.WEEK_DAY.value_counts().keys()\n",
    "           , new_source.WEEK_DAY.map(week_days_names).value_counts().keys()\n",
    "           , rotation = 45\n",
    "           , size = 14)\n",
    "plt.xlabel('Week day', size = 14)\n",
    "plt.ylabel('Number of trips', size = 14)\n",
    "plt.show()"
   ]
  },
  {
   "cell_type": "markdown",
   "metadata": {
    "_uuid": "3c97dcbf652129e9cda7379896e5122013c3caca"
   },
   "source": [
    "## Call_Type study"
   ]
  },
  {
   "cell_type": "code",
   "execution_count": 9,
   "metadata": {
    "_uuid": "fbed4285e43cdeaed171db66bff0dade67c733da",
    "collapsed": true
   },
   "outputs": [],
   "source": [
    "plt.figure(figsize=(7,7))\n",
    "plt.rc('font', size=25)          \n",
    "plt.rc('axes', titlesize=25)\n",
    "plt.rc('axes', labelsize=17)\n",
    "plt.rc('xtick', labelsize=15)   \n",
    "plt.rc('ytick', labelsize=15)   \n",
    "plt.pie(new_source.CALL_TYPE.value_counts().values\n",
    "        , labels=new_source.CALL_TYPE.value_counts().keys()\n",
    "        , autopct='%1.2f%%')\n",
    "plt.show()"
   ]
  },
  {
   "cell_type": "code",
   "execution_count": 10,
   "metadata": {
    "_uuid": "e16b39f62c647f0a8b43ed5a0432e8e219d0227c",
    "collapsed": true
   },
   "outputs": [],
   "source": [
    "plt.figure(figsize=(7,7))\n",
    "plt.rc('font', size=25)         \n",
    "plt.rc('axes', titlesize=25)\n",
    "\n",
    "colors = ['#ff0000','#0080ff','#ff8000']\n",
    "plt.title('Call_type comparation')\n",
    "sq.plot(sizes=new_source.CALL_TYPE.value_counts().values\n",
    ", label=new_source.CALL_TYPE.value_counts().keys()\n",
    ", color=colors, alpha=.4);\n",
    "\n",
    "plt.show()"
   ]
  },
  {
   "cell_type": "code",
   "execution_count": 13,
   "metadata": {
    "_uuid": "af8730571ef87a2323284e4e4059ffaa134d16da",
    "collapsed": true
   },
   "outputs": [],
   "source": [
    "width = 0.25      \n",
    "plt.figure(figsize=(25,15))\n",
    "plt.rc('font', size=25)         \n",
    "plt.rc('axes', titlesize=25)\n",
    "plt.rc('axes', labelsize=17)\n",
    "plt.rc('ytick', labelsize=15)    \n",
    "rects1 = plt.bar(unstack_call_type_df.index, unstack_call_type_df.TRIP_ID.A.values, width, color='b', label = 'A')\n",
    "rects2 = plt.bar(unstack_call_type_df.index + width, unstack_call_type_df.TRIP_ID.B.values, width, color='g', label = 'B')\n",
    "rects3 = plt.bar(unstack_call_type_df.index + (width*2), unstack_call_type_df.TRIP_ID.C.values, width, color='r', label = 'C')\n",
    "plt.xticks(r , values_week, rotation = 45, size = 24)\n",
    "plt.rc('font', weight='bold')\n",
    "plt.xlabel('x', size = 25)\n",
    "plt.ylabel('y', size = 25)\n",
    "plt.legend()\n",
    "plt.show();"
   ]
  },
  {
   "cell_type": "markdown",
   "metadata": {
    "_uuid": "7a3152ba2cff5678a54c9742b085e10fe3273b33"
   },
   "source": [
    "We can see the evolution of C trips, C trips are those with starts in a random street in a random time.\n",
    "Let's study the pickup zone of C call_type with a heatmap"
   ]
  },
  {
   "cell_type": "code",
   "execution_count": null,
   "metadata": {
    "_uuid": "27a46a9fca9d20b3a11e2eaa6ea36a2623dfb84f",
    "collapsed": true
   },
   "outputs": [],
   "source": [
    "miss_false_poly_source = source[source.MISSING_DATA == False]\n",
    "miss_false_poly_source2 = miss_false_poly_source[miss_false_poly_source.POLYLINE != '[]']\n",
    "miss_false_polyline_source = miss_false_poly_source2[['TRIP_ID', 'CALL_TYPE', 'POLYLINE', 'TIMESTAMP']]\n",
    "polyline_source = miss_false_polyline_source.copy()\n",
    "polyline_source.reset_index(inplace=True)\n",
    "polyline_source['PICK_UP_LOCATION'] = polyline_source.POLYLINE.apply(lambda x: eval(x.split()[0])[0])\n",
    "polyline_source['PICK_UP_LOCATION'] = polyline_source.PICK_UP_LOCATION.apply(lambda x: np.flip(x,0))\n",
    "polyline_source['DISTANCE'] = polyline_source.POLYLINE.apply(lambda x: len(x))\n",
    "polyline_source['TIME_TRIP_MIN'] = polyline_source.DISTANCE.apply(lambda x: float((x-1)*15)/60)\n",
    "polyline_source['WEEK_DAY'] = polyline_source.TIMESTAMP.apply(lambda x: dt.datetime.fromtimestamp(x).weekday())\n",
    "polyline_source = polyline_source.loc[:, polyline_source.columns != 'index']\n",
    "polyline_source.head()"
   ]
  },
  {
   "cell_type": "markdown",
   "metadata": {
    "_uuid": "4f55698d6f819c54c413d88a1e8a780aeaaa0c56"
   },
   "source": [
    "# C - Pick ups location (Mondays vs Sundays)  "
   ]
  },
  {
   "cell_type": "code",
   "execution_count": null,
   "metadata": {
    "_uuid": "fec61f2b9694d44a14404673004db8a7b47d2a55",
    "collapsed": true
   },
   "outputs": [],
   "source": [
    "C_polyline_source = polyline_source.copy()\n",
    "C_polyline_source = C_polyline_source[C_polyline_source.CALL_TYPE == 'C']\n",
    "mondays_pick_up = C_polyline_source[C_polyline_source.WEEK_DAY == 0].PICK_UP_LOCATION.tolist()\n",
    "sundays_pick_up = C_polyline_source[C_polyline_source.WEEK_DAY == 6].PICK_UP_LOCATION.tolist()\n",
    "list_mondays_pick_up = []\n",
    "list_sundays_pick_up = []\n",
    "#list_a_pick_up = []\n",
    "for i in mondays_pick_up:\n",
    "    list_mondays_pick_up.append(i.tolist())\n",
    "    \n",
    "for i in sundays_pick_up:\n",
    "    list_sundays_pick_up.append(i.tolist())"
   ]
  },
  {
   "cell_type": "code",
   "execution_count": null,
   "metadata": {
    "_uuid": "48dfc80aefa44e9ba86d87a634e81a19069fbb2a",
    "collapsed": true
   },
   "outputs": [],
   "source": [
    "# Create Monday Map\n",
    "monday = folium.Map([41.155, -8.63], zoom_start=13)\n",
    "# Add heatMap \n",
    "plugins.HeatMap(list_mondays_pick_up, radius=11).add_to(monday)\n",
    "# Print heatMap\n",
    "monday"
   ]
  },
  {
   "cell_type": "code",
   "execution_count": null,
   "metadata": {
    "_uuid": "6fc5f48c831ead7cb1946aa98295fbd67b55257f",
    "collapsed": true
   },
   "outputs": [],
   "source": [
    "# Create Sunday Map\n",
    "sunday = folium.Map([41.155, -8.63], zoom_start=13)\n",
    "# Add heatMap \n",
    "plugins.HeatMap(list_sundays_pick_up, radius=11).add_to(sunday)\n",
    "# Print heatMap\n",
    "sunday"
   ]
  }
 ],
 "metadata": {
  "anaconda-cloud": {},
  "kernelspec": {
   "display_name": "Python 3",
   "language": "python",
   "name": "python3"
  },
  "language_info": {
   "codemirror_mode": {
    "name": "ipython",
    "version": 3
   },
   "file_extension": ".py",
   "mimetype": "text/x-python",
   "name": "python",
   "nbconvert_exporter": "python",
   "pygments_lexer": "ipython3",
   "version": "3.7.2"
  }
 },
 "nbformat": 4,
 "nbformat_minor": 1
}
